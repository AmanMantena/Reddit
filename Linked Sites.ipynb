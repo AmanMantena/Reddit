{
 "cells": [
  {
   "cell_type": "markdown",
   "metadata": {},
   "source": [
    "This script analyzes the linked sites of posts in a subreddit."
   ]
  },
  {
   "cell_type": "code",
   "execution_count": null,
   "metadata": {},
   "outputs": [],
   "source": [
    "import praw\n",
    "import re\n",
    "import numpy as np\n",
    "import pandas as pd"
   ]
  },
  {
   "cell_type": "markdown",
   "metadata": {},
   "source": [
    "To use this, you have to enter your Reddit username and password. After that, you have to register the script and create an application using https://www.reddit.com/prefs/apps, and enter the client id and client secret provided."
   ]
  },
  {
   "cell_type": "code",
   "execution_count": null,
   "metadata": {},
   "outputs": [],
   "source": [
    "name = \"Linked Sites\"\n",
    "\n",
    "username = \"\"\n",
    "password = \"\"\n",
    "cid = \"\"\n",
    "csec = \"\"\n",
    "\n",
    "r = praw.Reddit(user_agent = name, client_id = cid, client_secret = csec, username = username, password = password)"
   ]
  },
  {
   "cell_type": "markdown",
   "metadata": {},
   "source": [
    "Enter the name of the subreddit and how many posts you want to analyze."
   ]
  },
  {
   "cell_type": "code",
   "execution_count": null,
   "metadata": {},
   "outputs": [],
   "source": [
    "subreddit_name = \"\"\n",
    "n_posts = \n",
    "\n",
    "subreddit = r.subreddit(subreddit_name)"
   ]
  },
  {
   "cell_type": "markdown",
   "metadata": {},
   "source": [
    "The relevant information can be stored in a dictionary with the site as the key, and the number and total score of the posts with links to that site as the values."
   ]
  },
  {
   "cell_type": "code",
   "execution_count": null,
   "metadata": {},
   "outputs": [],
   "source": [
    "sites = {}\n",
    "\n",
    "for submission in subreddit.hot(limit = n_posts):\n",
    "    \n",
    "    if submission.selftext:\n",
    "        continue\n",
    "\n",
    "    score = submission.score\n",
    "    url = submission.url\n",
    "    site = re.findall(r'\\/\\/[a-zA-Z0-9.-]+\\/', url)[0]\n",
    "    site = re.sub('/|www.|.com|.org', '', site)\n",
    "    \n",
    "    if site not in sites:\n",
    "        sites[site] = np.array([0, 0])\n",
    "    \n",
    "    sites[site] += [1, score]        \n",
    " \n",
    "df = pd.DataFrame(list(sites.items()))\n",
    "df.columns = ['site', 'value']\n",
    "df[['number', 'score']] = pd.DataFrame(df['value'].values.tolist())\n",
    "del df['value']"
   ]
  },
  {
   "cell_type": "markdown",
   "metadata": {},
   "source": [
    "Now we can analyze and graph the data."
   ]
  },
  {
   "cell_type": "code",
   "execution_count": null,
   "metadata": {},
   "outputs": [],
   "source": [
    "df['avg_score'] = df.score / df.number\n",
    "\n",
    "df"
   ]
  }
 ],
 "metadata": {
  "kernelspec": {
   "display_name": "Python 3",
   "language": "python",
   "name": "python3"
  },
  "language_info": {
   "codemirror_mode": {
    "name": "ipython",
    "version": 3
   },
   "file_extension": ".py",
   "mimetype": "text/x-python",
   "name": "python",
   "nbconvert_exporter": "python",
   "pygments_lexer": "ipython3",
   "version": "3.6.5"
  }
 },
 "nbformat": 4,
 "nbformat_minor": 2
}
