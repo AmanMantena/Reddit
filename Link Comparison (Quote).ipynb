{
 "cells": [
  {
   "cell_type": "markdown",
   "metadata": {},
   "source": [
    "This script investigates \"brigading,\" a phenomena on Reddit when members of one community (subreddit) vote and comment on posts of another. In particular, this investigates subreddits that quote the original score of a post while linking to it."
   ]
  },
  {
   "cell_type": "code",
   "execution_count": null,
   "metadata": {},
   "outputs": [],
   "source": [
    "import praw\n",
    "import re\n",
    "import datetime\n",
    "import numpy as np\n",
    "import pandas as pd"
   ]
  },
  {
   "cell_type": "markdown",
   "metadata": {},
   "source": [
    "To use this, you have to enter your Reddit username and password. After that, you have to register the script and create an application using https://www.reddit.com/prefs/apps, and enter the client id and client secret provided."
   ]
  },
  {
   "cell_type": "code",
   "execution_count": null,
   "metadata": {},
   "outputs": [],
   "source": [
    "name = \"Link Comparison (Quote)\"\n",
    "\n",
    "username = \"\"\n",
    "password = \"\"\n",
    "cid = \"\"\n",
    "csec = \"\"\n",
    "\n",
    "r = praw.Reddit(user_agent = name, client_id = cid, client_secret = csec, username = username, password = password)"
   ]
  },
  {
   "cell_type": "markdown",
   "metadata": {},
   "source": [
    "Enter the name of the subreddit and how many posts you want to analyze."
   ]
  },
  {
   "cell_type": "code",
   "execution_count": null,
   "metadata": {},
   "outputs": [],
   "source": [
    "subreddit_name = \"\"\n",
    "n_posts = \n",
    "\n",
    "subreddit = r.subreddit(subreddit_name)"
   ]
  },
  {
   "cell_type": "markdown",
   "metadata": {},
   "source": [
    "Checking the effect of brigading is simple: extract the original score of the linked comment from the text and compare it to its current score. However, additional coding is required to correct for different quoting formats and linking strategies."
   ]
  },
  {
   "cell_type": "code",
   "execution_count": null,
   "metadata": {},
   "outputs": [],
   "source": [
    "data = []\n",
    "    \n",
    "def comment_data(comment):\n",
    "    final_score = comment.score\n",
    "    \n",
    "    if comment.author:\n",
    "        deleted = 0\n",
    "    else:\n",
    "        deleted = 1\n",
    "        \n",
    "    time = datetime.datetime.utcfromtimestamp(comment.created_utc)\n",
    "    \n",
    "    return [time, final_score, deleted]\n",
    "\n",
    "for submission in subreddit.hot(limit = n_posts):\n",
    "    url = submission.url\n",
    "    time = datetime.datetime.utcfromtimestamp(submission.created)\n",
    "    link_score = submission.score\n",
    "    \n",
    "    if submission.selftext:\n",
    "        continue\n",
    "\n",
    "    title = submission.title.replace(' ', '')\n",
    "    init_score = re.findall(r'\\+\\d+|\\d+\\+|\\[\\d+\\]', title)\n",
    "    init_score = [int(re.sub('[^0-9]','', i)) for i in init_score]\n",
    "\n",
    "    scores = len(init_score)\n",
    "    if scores == 0:\n",
    "        continue\n",
    "\n",
    "    try:\n",
    "        comment = r.comment(url = url)\n",
    "    except praw.exceptions.ClientException:\n",
    "        continue\n",
    "        \n",
    "    data.append([link_score, init_score[0], time] + comment_data(comment)) \n",
    "    \n",
    "    if scores > 1: \n",
    "        comment.refresh()\n",
    "        score = comment.score\n",
    "\n",
    "        children = comment.replies\n",
    "        if children:\n",
    "            for i in range(scores - 1):\n",
    "                data.append([link_score, init_score[i + 1], time] + comment_data(children[i]))\n",
    "                \n",
    "df = pd.DataFrame(data)\n",
    "df.columns = ['link_score', 'orig_score', 'link_time', 'comment_time', 'final_score', 'deleted']\n",
    "\n",
    "df"
   ]
  },
  {
   "cell_type": "markdown",
   "metadata": {},
   "source": [
    "Now we can analyze and graph the data."
   ]
  },
  {
   "cell_type": "code",
   "execution_count": null,
   "metadata": {},
   "outputs": [],
   "source": [
    "import matplotlib.pyplot as plt\n",
    "plt.style.use('seaborn')\n",
    "\n",
    "plt.scatter(df.orig_score, df.final_score)\n",
    "plt.title(\"Original vs. Final Score\")\n",
    "plt.xlabel(\"Original Score\")\n",
    "plt.ylabel(\"Final Score\")\n",
    "plt.show()\n",
    "\n",
    "print(\"Percentage Deleted: \" + str(sum(df.deleted)/len(df)))\n",
    "\n",
    "plt.hist(df.final_score - df.orig_score, bins = 30)\n",
    "plt.title(\"Histogram of Score Changes\")\n",
    "plt.xlabel(\"Score Change\")\n",
    "plt.show()\n",
    "\n",
    "plt.scatter(df.link_score, df.final_score - df.orig_score)\n",
    "plt.title(\"Link Score vs. Score Change\")\n",
    "plt.xlabel(\"Link Score\")\n",
    "plt.ylabel(\"Score Change\")\n",
    "plt.show()"
   ]
  }
 ],
 "metadata": {
  "kernelspec": {
   "display_name": "Python 3",
   "language": "python",
   "name": "python3"
  },
  "language_info": {
   "codemirror_mode": {
    "name": "ipython",
    "version": 3
   },
   "file_extension": ".py",
   "mimetype": "text/x-python",
   "name": "python",
   "nbconvert_exporter": "python",
   "pygments_lexer": "ipython3",
   "version": "3.6.5"
  }
 },
 "nbformat": 4,
 "nbformat_minor": 2
}
