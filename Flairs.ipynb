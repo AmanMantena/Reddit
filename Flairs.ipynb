{
 "cells": [
  {
   "cell_type": "markdown",
   "metadata": {},
   "source": [
    "This script analyzes the flair of posts in a subreddit."
   ]
  },
  {
   "cell_type": "code",
   "execution_count": null,
   "metadata": {},
   "outputs": [],
   "source": [
    "import praw\n",
    "import numpy as np\n",
    "import pandas as pd"
   ]
  },
  {
   "cell_type": "markdown",
   "metadata": {},
   "source": [
    "To use this, you have to enter your Reddit username and password. After that, you have to register the script and create an application using https://www.reddit.com/prefs/apps, and enter the client id and client secret provided."
   ]
  },
  {
   "cell_type": "code",
   "execution_count": null,
   "metadata": {},
   "outputs": [],
   "source": [
    "name = \"Flair Analysis\"\n",
    "\n",
    "username = \"\"\n",
    "password = \"\"\n",
    "cid = \"\"\n",
    "csec = \"\"\n",
    "\n",
    "r = praw.Reddit(user_agent = name, client_id = cid, client_secret = csec, username = username, password = password)"
   ]
  },
  {
   "cell_type": "markdown",
   "metadata": {},
   "source": [
    "Enter the name of the subreddit and how many posts you want to analyze."
   ]
  },
  {
   "cell_type": "code",
   "execution_count": null,
   "metadata": {},
   "outputs": [],
   "source": [
    "subreddit_name = \"\"\n",
    "n_posts = \n",
    "\n",
    "subreddit = r.subreddit(subreddit_name)"
   ]
  },
  {
   "cell_type": "markdown",
   "metadata": {},
   "source": [
    "The relevant information can be stored in a dictionary with the flair as the key, and the number and total score of the posts with that flair as the values."
   ]
  },
  {
   "cell_type": "code",
   "execution_count": null,
   "metadata": {},
   "outputs": [],
   "source": [
    "flairs = {}\n",
    "\n",
    "for submission in subreddit.hot(limit = n_posts):\n",
    "    flair = submission.link_flair_text\n",
    "    score = submission.score\n",
    "    \n",
    "    if flair not in flairs:\n",
    "        flairs[flair] = np.array([0, 0])\n",
    "    \n",
    "    flairs[flair] += [1, score]        \n",
    "        \n",
    "df = pd.DataFrame(list(flairs.items()))\n",
    "df.columns = ['flair', 'value']\n",
    "df[['number', 'score']] = pd.DataFrame(df['value'].values.tolist())\n",
    "del df['value']"
   ]
  },
  {
   "cell_type": "markdown",
   "metadata": {},
   "source": [
    "Now we can analyze the flairs in a subreddit."
   ]
  },
  {
   "cell_type": "code",
   "execution_count": null,
   "metadata": {},
   "outputs": [],
   "source": [
    "df['avg_score'] = df.score / df.number\n",
    "\n",
    "df"
   ]
  }
 ],
 "metadata": {
  "kernelspec": {
   "display_name": "Python 3",
   "language": "python",
   "name": "python3"
  },
  "language_info": {
   "codemirror_mode": {
    "name": "ipython",
    "version": 3
   },
   "file_extension": ".py",
   "mimetype": "text/x-python",
   "name": "python",
   "nbconvert_exporter": "python",
   "pygments_lexer": "ipython3",
   "version": "3.6.5"
  }
 },
 "nbformat": 4,
 "nbformat_minor": 2
}
